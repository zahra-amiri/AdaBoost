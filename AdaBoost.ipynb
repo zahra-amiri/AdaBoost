{
  "nbformat": 4,
  "nbformat_minor": 0,
  "metadata": {
    "colab": {
      "provenance": []
    },
    "kernelspec": {
      "name": "python3",
      "display_name": "Python 3"
    },
    "language_info": {
      "name": "python"
    }
  },
  "cells": [
    {
      "cell_type": "code",
      "execution_count": null,
      "metadata": {
        "colab": {
          "base_uri": "https://localhost:8080/"
        },
        "id": "s93mkh_iDkSt",
        "outputId": "12842ec3-0c94-49c7-9657-f3aae14c06d3"
      },
      "outputs": [
        {
          "output_type": "stream",
          "name": "stdout",
          "text": [
            "Best Parameters: {'n_estimators': 15}\n",
            "Best Accuracy: 0.8736440522154808\n",
            "Test Set Accuracy: 0.842391304347826\n"
          ]
        }
      ],
      "source": [
        "import pandas as pd\n",
        "from sklearn.model_selection import train_test_split, GridSearchCV, cross_val_score\n",
        "from sklearn.ensemble import AdaBoostClassifier , GradientBoostingClassifier ,StackingClassifier\n",
        "from sklearn.preprocessing import StandardScaler, LabelEncoder\n",
        "from sklearn.impute import SimpleImputer\n",
        "from sklearn.pipeline import Pipeline\n",
        "from sklearn.compose import ColumnTransformer\n",
        "from sklearn.svm import SVC\n",
        "from sklearn.tree import DecisionTreeClassifier\n",
        "from sklearn.linear_model import LogisticRegression\n",
        "from sklearn.metrics import accuracy_score, classification_report\n",
        "\n",
        "df = pd.read_csv('heart_disease_uci.csv')\n",
        "\n",
        "#cat col\n",
        "categorical_cols = df.select_dtypes(include=['object']).columns.tolist()\n",
        "\n",
        "#missing values for num col\n",
        "numerical_cols = df.select_dtypes(include=['float64', 'int64']).columns.tolist()\n",
        "imputer_numeric = SimpleImputer(strategy='mean')\n",
        "df[numerical_cols] = pd.DataFrame(imputer_numeric.fit_transform(df[numerical_cols]), columns=numerical_cols)\n",
        "\n",
        "\n",
        "#cat col to num\n",
        "label_encoder = LabelEncoder()\n",
        "df[categorical_cols] = df[categorical_cols].apply(label_encoder.fit_transform)\n",
        "\n",
        "#missing values for cat col\n",
        "imputer_categorical = ColumnTransformer(\n",
        "    transformers=[\n",
        "        ('sex', SimpleImputer(strategy='most_frequent'), ['sex']),\n",
        "        ('dataset', SimpleImputer(strategy='most_frequent'), ['dataset']),\n",
        "        ('cp', SimpleImputer(strategy='median'), ['cp']),\n",
        "        ('fbs', SimpleImputer(strategy='most_frequent'), ['fbs']),\n",
        "        ('restecg', SimpleImputer(strategy='most_frequent'), ['restecg']),\n",
        "        ('exang', SimpleImputer(strategy='most_frequent'), ['exang']),\n",
        "        ('slope', SimpleImputer(strategy='mean'), ['slope']),\n",
        "        ('thal', SimpleImputer(strategy='most_frequent'), ['thal']),\n",
        "    ]\n",
        ")\n",
        "df[categorical_cols] = pd.DataFrame(imputer_categorical.fit_transform(df[categorical_cols]), columns=categorical_cols)\n",
        "\n",
        "df['num'] = df['num'].apply(lambda x: 0 if x == 0 else 1)\n",
        "\n",
        "X = df.drop('num', axis=1)\n",
        "y = df['num']\n",
        "\n",
        "# Normalize\n",
        "scaler = StandardScaler()\n",
        "normalized_data = scaler.fit_transform(X)\n",
        "X = pd.DataFrame(normalized_data, columns=X.columns)\n",
        "\n",
        "#split\n",
        "X_train, X_test, y_train, y_test = train_test_split(X, y, test_size=0.2, random_state=42)\n",
        "\n",
        "\n",
        "adaboost_classifier = AdaBoostClassifier()\n",
        "\n",
        "param_grid = {\n",
        "    'n_estimators': [10, 15, 18, 25, 50, 100, 200],\n",
        "}\n",
        "\n",
        "#GridSearchCV\n",
        "grid_search = GridSearchCV(adaboost_classifier, param_grid, cv=5, scoring='accuracy', n_jobs=-1)\n",
        "grid_search.fit(X_train, y_train)\n",
        "\n",
        "\n",
        "print(\"Best Parameters:\", grid_search.best_params_)\n",
        "print(\"Best Accuracy:\", grid_search.best_score_)\n",
        "\n",
        "test_accuracy = grid_search.best_estimator_.score(X_test, y_test)\n",
        "print(\"Test Set Accuracy:\", test_accuracy)\n"
      ]
    },
    {
      "cell_type": "code",
      "source": [
        "adaboost_classifier = AdaBoostClassifier(n_estimators=15)\n",
        "#Cross-Validation\n",
        "k_values = [3, 5, 7]\n",
        "\n",
        "for k in k_values:\n",
        "    cross_val_scores = cross_val_score(adaboost_classifier, X_train, y_train, cv=k, scoring='accuracy')\n",
        "    print(f'Cross-Validation Accuracy (k={k}): {cross_val_scores.mean()}')\n",
        "\n",
        "\n",
        "adaboost_classifier.fit(X_train, y_train)\n",
        "test_accuracy = adaboost_classifier.score(X_test, y_test)\n",
        "print(\"Test Set Accuracy:\", test_accuracy)\n"
      ],
      "metadata": {
        "colab": {
          "base_uri": "https://localhost:8080/"
        },
        "id": "papseviDPfr1",
        "outputId": "9df6bc00-5a07-4d1c-b813-d61b5d114045"
      },
      "execution_count": null,
      "outputs": [
        {
          "output_type": "stream",
          "name": "stdout",
          "text": [
            "Cross-Validation Accuracy (k=3): 0.86548310381063\n",
            "Cross-Validation Accuracy (k=5): 0.8736440522154808\n",
            "Cross-Validation Accuracy (k=7): 0.8696187909125914\n",
            "Test Set Accuracy: 0.842391304347826\n"
          ]
        }
      ]
    },
    {
      "cell_type": "code",
      "source": [
        "#Step 1: Prepare the Data => first cell\n",
        "\n",
        "#Step 2: Model Selection\n",
        "base_models = [\n",
        "    ('svm', SVC(kernel='linear', probability=True)),\n",
        "    ('decision_tree', DecisionTreeClassifier()),\n",
        "    ('gradient_boosting', GradientBoostingClassifier())\n",
        "]\n",
        "\n",
        "#Step 3: Training the Base Models\n",
        "for name, model in base_models:\n",
        "    model.fit(X_train, y_train)\n",
        "\n",
        "#Step 4: Predictions on the Validation Set\n",
        "base_model_predictions = {name: model.predict(X_test) for name, model in base_models}\n",
        "\n",
        "#Step 5: Developing a Meta Model\n",
        "meta_model = LogisticRegression()\n",
        "\n",
        "#Step 6: Training the Meta Model\n",
        "meta_model_input = pd.DataFrame(base_model_predictions)\n",
        "meta_model.fit(meta_model_input, y_test)\n",
        "\n",
        "#Step 7: Making Test Set Predictions\n",
        "stacking_input = pd.DataFrame({name: model.predict(X_test) for name, model in base_models})\n",
        "stacking_predictions = meta_model.predict(stacking_input)\n",
        "\n",
        "#Step 8: Model Evaluation\n",
        "stacking_accuracy = accuracy_score(y_test, stacking_predictions)\n",
        "stacking_classification_report = classification_report(y_test, stacking_predictions)\n",
        "\n",
        "print(\"Accuracy:\", stacking_accuracy)\n",
        "print(\"Classification:\\n\", stacking_classification_report)\n"
      ],
      "metadata": {
        "colab": {
          "base_uri": "https://localhost:8080/"
        },
        "id": "EwQ2khyKNCdd",
        "outputId": "1861b509-776d-48f5-a72e-3d152113052d"
      },
      "execution_count": null,
      "outputs": [
        {
          "output_type": "stream",
          "name": "stdout",
          "text": [
            "Accuracy: 0.8695652173913043\n",
            "Classification:\n",
            "               precision    recall  f1-score   support\n",
            "\n",
            "           0       0.83      0.85      0.84        75\n",
            "           1       0.90      0.88      0.89       109\n",
            "\n",
            "    accuracy                           0.87       184\n",
            "   macro avg       0.86      0.87      0.87       184\n",
            "weighted avg       0.87      0.87      0.87       184\n",
            "\n"
          ]
        }
      ]
    },
    {
      "cell_type": "code",
      "source": [
        "from xgboost import XGBClassifier\n",
        "import numpy as np\n",
        "from sklearn.metrics import accuracy_score, precision_score, recall_score, f1_score\n",
        "\n",
        "df = pd.read_csv('heart_disease_uci.csv')\n",
        "#cat col\n",
        "categorical_cols = df.select_dtypes(include=['object']).columns.tolist()\n",
        "#cat col to num\n",
        "label_encoder = LabelEncoder()\n",
        "df[categorical_cols] = df[categorical_cols].apply(label_encoder.fit_transform)\n",
        "df['num'] = df['num'].apply(lambda x: 0 if x == 0 else 1)\n",
        "X = df.drop('num', axis=1)\n",
        "y = df['num']\n",
        "# Normalize\n",
        "scaler = StandardScaler()\n",
        "normalized_data = scaler.fit_transform(X)\n",
        "X = pd.DataFrame(normalized_data, columns=X.columns)\n",
        "#split\n",
        "X_train, X_test, y_train, y_test = train_test_split(X, y, test_size=0.2, random_state=42)\n",
        "xgb_model = XGBClassifier()\n",
        "grid_search = GridSearchCV(xgb_model, param_grid, cv=5, scoring='accuracy')\n",
        "grid_search.fit(X_train, y_train)\n",
        "\n",
        "best_n_estimators = grid_search.best_params_['n_estimators']\n",
        "\n",
        "k_values = [3, 5, 7]\n",
        "\n",
        "for k in k_values:\n",
        "    xgb_model = XGBClassifier(n_estimators=best_n_estimators)\n",
        "    xgb_model.fit(X_train, y_train)\n",
        "\n",
        "    y_pred = xgb_model.predict(X_test)\n",
        "\n",
        "    accuracy = accuracy_score(y_test, y_pred)\n",
        "    precision = precision_score(y_test, y_pred)\n",
        "    recall = recall_score(y_test, y_pred)\n",
        "    f1 = f1_score(y_test, y_pred)\n",
        "\n",
        "    print(f'\\nEvaluation Metrics with k={k}:')\n",
        "    print(f'Accuracy: {accuracy:.4f}')\n",
        "    print(f'Precision: {precision:.4f}')\n",
        "    print(f'Recall: {recall:.4f}')\n",
        "    print(f'F1-Score: {f1:.4f}')"
      ],
      "metadata": {
        "colab": {
          "base_uri": "https://localhost:8080/"
        },
        "id": "NwGe7K2m6ez9",
        "outputId": "c63048ba-4e38-4cfa-d933-201a8984d909"
      },
      "execution_count": null,
      "outputs": [
        {
          "output_type": "stream",
          "name": "stdout",
          "text": [
            "\n",
            "Evaluation Metrics with k=3:\n",
            "Accuracy: 0.8587\n",
            "Precision: 0.9109\n",
            "Recall: 0.8440\n",
            "F1-Score: 0.8762\n",
            "\n",
            "Evaluation Metrics with k=5:\n",
            "Accuracy: 0.8587\n",
            "Precision: 0.9109\n",
            "Recall: 0.8440\n",
            "F1-Score: 0.8762\n",
            "\n",
            "Evaluation Metrics with k=7:\n",
            "Accuracy: 0.8587\n",
            "Precision: 0.9109\n",
            "Recall: 0.8440\n",
            "F1-Score: 0.8762\n"
          ]
        }
      ]
    }
  ]
}